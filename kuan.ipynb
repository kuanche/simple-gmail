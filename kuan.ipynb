{
 "cells": [
  {
   "cell_type": "code",
   "execution_count": 4,
   "metadata": {
    "tags": []
   },
   "outputs": [
    {
     "output_type": "stream",
     "name": "stdout",
     "text": "The autoreload extension is already loaded. To reload it, use:\n  %reload_ext autoreload\n"
    }
   ],
   "source": [
    "%load_ext autoreload\n",
    "%autoreload 2"
   ]
  },
  {
   "cell_type": "code",
   "execution_count": 14,
   "metadata": {},
   "outputs": [],
   "source": [
    "import sqlite3 as sl\n",
    "\n",
    "conn = sl.connect('my-test.db')\n"
   ]
  },
  {
   "cell_type": "code",
   "execution_count": 15,
   "metadata": {},
   "outputs": [
    {
     "output_type": "error",
     "ename": "OperationalError",
     "evalue": "table test_table already exists",
     "traceback": [
      "\u001b[0;31m---------------------------------------------------------------------------\u001b[0m",
      "\u001b[0;31mOperationalError\u001b[0m                          Traceback (most recent call last)",
      "\u001b[0;32m<ipython-input-15-eb6ce1d40ac7>\u001b[0m in \u001b[0;36m<module>\u001b[0;34m\u001b[0m\n\u001b[1;32m      6\u001b[0m             \u001b[0mage\u001b[0m \u001b[0mINTEGER\u001b[0m\u001b[0;34m\u001b[0m\u001b[0;34m\u001b[0m\u001b[0m\n\u001b[1;32m      7\u001b[0m         );\n\u001b[0;32m----> 8\u001b[0;31m     \"\"\")\n\u001b[0m",
      "\u001b[0;31mOperationalError\u001b[0m: table test_table already exists"
     ]
    }
   ],
   "source": [
    "with conn:\n",
    "    conn.execute(\"\"\"\n",
    "        CREATE TABLE test_table (\n",
    "            id INTEGER NOT NULL PRIMARY KEY AUTOINCREMENT,\n",
    "            name TEXT,\n",
    "            age INTEGER\n",
    "        );\n",
    "    \"\"\")"
   ]
  },
  {
   "cell_type": "code",
   "execution_count": 4,
   "metadata": {},
   "outputs": [],
   "source": [
    "sql = 'INSERT INTO test_table (id, name, age) values(?, ?, ?)'\n",
    "data = [\n",
    "    (1, 'Alice', 21),\n",
    "    (2, 'Bob', 22),\n",
    "    (3, 'Chris', 23)\n",
    "]\n",
    "with conn:\n",
    "    conn.executemany(sql, data)\n"
   ]
  },
  {
   "cell_type": "code",
   "execution_count": 20,
   "metadata": {},
   "outputs": [],
   "source": [
    "sql = 'INSERT INTO test_table (name, age) values(?, ?)'\n",
    "data = [\n",
    "    ('Alice2', 21),\n",
    "    ('Bob2', 22),\n",
    "    ('Chris2', 23)\n",
    "]\n",
    "with conn:\n",
    "    conn.executemany(sql, data)\n"
   ]
  },
  {
   "cell_type": "code",
   "execution_count": 29,
   "metadata": {
    "tags": []
   },
   "outputs": [
    {
     "output_type": "stream",
     "name": "stdout",
     "text": "(1, 'Alice', 21)\n(2, 'Bob', 22)\n(3, 'Chris', 23)\n(4, 'Alice2', 21)\n(5, 'Bob2', 22)\n(6, 'Chris2', 23)\n(7, 'Alice2', 21)\n(8, 'Alice3', 222221)\n"
    }
   ],
   "source": [
    "with con:\n",
    "    data = conn.execute(\"SELECT * FROM test_table\")\n",
    "    for row in data:\n",
    "        print(row)"
   ]
  },
  {
   "cell_type": "code",
   "execution_count": 22,
   "metadata": {
    "tags": []
   },
   "outputs": [
    {
     "output_type": "stream",
     "name": "stdout",
     "text": "[(1, 'Alice', 21), (2, 'Bob', 22), (3, 'Chris', 23), (4, 'Alice2', 21), (5, 'Bob2', 22), (6, 'Chris2', 23)]\n"
    }
   ],
   "source": [
    "c = conn.cursor()\n",
    "\n",
    "c.execute('SELECT * FROM test_table')\n",
    "data = c.fetchall()\n",
    "print(data)\n",
    "\n"
   ]
  },
  {
   "cell_type": "code",
   "execution_count": 28,
   "metadata": {},
   "outputs": [],
   "source": [
    "sql = 'INSERT INTO test_table (name, age) values(?, ?)'\n",
    "data = ('Alice3', 222221)\n",
    "with conn:\n",
    "    conn.execute(sql, data)\n"
   ]
  },
  {
   "cell_type": "code",
   "execution_count": null,
   "metadata": {},
   "outputs": [],
   "source": []
  },
  {
   "cell_type": "code",
   "execution_count": 3,
   "metadata": {
    "tags": []
   },
   "outputs": [
    {
     "output_type": "stream",
     "name": "stdout",
     "text": "\u001b[2m2020-08-26 00:54.50\u001b[0m \u001b[1mgreeted                       \u001b[0m \u001b[36mmore_than_a_string\u001b[0m=\u001b[35m[1, 2, 3]\u001b[0m \u001b[36mwhom\u001b[0m=\u001b[35mworld\u001b[0m\n"
    }
   ],
   "source": [
    ">>> import structlog\n",
    ">>> log = structlog.get_logger()\n",
    ">>> log.msg(\"greeted\", whom=\"world\", more_than_a_string=[1, 2, 3])  \n"
   ]
  },
  {
   "cell_type": "code",
   "execution_count": 4,
   "metadata": {
    "tags": []
   },
   "outputs": [
    {
     "output_type": "stream",
     "name": "stdout",
     "text": "Fetched 30 emails in 1 batches thus far."
    }
   ],
   "source": [
    "from simplegmail import Gmail\n",
    "from simplegmail.query import construct_query\n",
    "\n",
    "g = Gmail()\n",
    "\n",
    "query_params = {\n",
    "    \"sender\": \"no-reply@emails.monoprice.com\",\n",
    "    # \"sender\": \"notification@facebookmail.com\",\n",
    "}\n",
    "\n",
    "messages = g.get_messages(query=construct_query(query_params))\n"
   ]
  },
  {
   "cell_type": "code",
   "execution_count": 5,
   "metadata": {},
   "outputs": [
    {
     "output_type": "execute_result",
     "data": {
      "text/plain": "30"
     },
     "metadata": {},
     "execution_count": 5
    }
   ],
   "source": [
    "len(messages)"
   ]
  },
  {
   "cell_type": "code",
   "execution_count": 16,
   "metadata": {},
   "outputs": [],
   "source": [
    "from sqlalchemy import create_engine\n",
    "from sqlalchemy.orm import sessionmaker\n",
    "from sqlalchemy.ext.declarative import declarative_base\n",
    "\n",
    "engine = create_engine(\"sqlite:///my-test.db\", echo=True)\n",
    "\n",
    "Session = sessionmaker(bind=engine)\n",
    "session = Session()\n",
    "\n",
    "Base = declarative_base()\n",
    "\n",
    "from sqlalchemy import Column, Integer, String\n",
    "\n",
    "class User(Base):\n",
    "    __tablename__ = 'users'\n",
    "\n",
    "    id = Column(Integer, primary_key=True)\n",
    "    name = Column(String)\n",
    "    password = Column(String)\n",
    "\n",
    "    def __repr__(self):\n",
    "        return f'User {self.name}'\n",
    "\n",
    "\n"
   ]
  },
  {
   "cell_type": "code",
   "execution_count": 17,
   "metadata": {
    "tags": []
   },
   "outputs": [
    {
     "output_type": "stream",
     "name": "stdout",
     "text": "2020-08-26 03:08:55,452 INFO sqlalchemy.engine.base.Engine SELECT CAST('test plain returns' AS VARCHAR(60)) AS anon_1\n2020-08-26 03:08:55,453 INFO sqlalchemy.engine.base.Engine ()\n2020-08-26 03:08:55,454 INFO sqlalchemy.engine.base.Engine SELECT CAST('test unicode returns' AS VARCHAR(60)) AS anon_1\n2020-08-26 03:08:55,455 INFO sqlalchemy.engine.base.Engine ()\n2020-08-26 03:08:55,456 INFO sqlalchemy.engine.base.Engine PRAGMA main.table_info(\"users\")\n2020-08-26 03:08:55,456 INFO sqlalchemy.engine.base.Engine ()\n2020-08-26 03:08:55,457 INFO sqlalchemy.engine.base.Engine PRAGMA temp.table_info(\"users\")\n2020-08-26 03:08:55,458 INFO sqlalchemy.engine.base.Engine ()\n2020-08-26 03:08:55,459 INFO sqlalchemy.engine.base.Engine \nCREATE TABLE users (\n\tid INTEGER NOT NULL, \n\tname VARCHAR, \n\tpassword VARCHAR, \n\tPRIMARY KEY (id)\n)\n\n\n2020-08-26 03:08:55,460 INFO sqlalchemy.engine.base.Engine ()\n2020-08-26 03:08:55,462 INFO sqlalchemy.engine.base.Engine COMMIT\n"
    }
   ],
   "source": [
    "Base.metadata.create_all(engine)\n"
   ]
  },
  {
   "cell_type": "code",
   "execution_count": 18,
   "metadata": {
    "tags": []
   },
   "outputs": [
    {
     "output_type": "stream",
     "name": "stdout",
     "text": "None\n"
    }
   ],
   "source": [
    "user = User(name='John Snow', password='johnspassword')\n",
    "session.add(user)\n",
    "\n",
    "print(user.id)  # None\n"
   ]
  },
  {
   "cell_type": "code",
   "execution_count": 19,
   "metadata": {
    "tags": []
   },
   "outputs": [
    {
     "output_type": "stream",
     "name": "stdout",
     "text": "2020-08-26 03:10:13,914 INFO sqlalchemy.engine.base.Engine BEGIN (implicit)\n2020-08-26 03:10:13,916 INFO sqlalchemy.engine.base.Engine INSERT INTO users (name, password) VALUES (?, ?)\n2020-08-26 03:10:13,917 INFO sqlalchemy.engine.base.Engine ('John Snow', 'johnspassword')\n2020-08-26 03:10:13,919 INFO sqlalchemy.engine.base.Engine COMMIT\n"
    }
   ],
   "source": [
    "session.commit()"
   ]
  },
  {
   "cell_type": "code",
   "execution_count": 21,
   "metadata": {},
   "outputs": [
    {
     "output_type": "execute_result",
     "data": {
      "text/plain": "1"
     },
     "metadata": {},
     "execution_count": 21
    }
   ],
   "source": [
    "user.id"
   ]
  },
  {
   "cell_type": "code",
   "execution_count": null,
   "metadata": {},
   "outputs": [],
   "source": [
    "time_created = Column(DateTime(timezone=True), server_default=func.now())\n"
   ]
  },
  {
   "cell_type": "code",
   "execution_count": 9,
   "metadata": {},
   "outputs": [
    {
     "output_type": "execute_result",
     "data": {
      "text/plain": "{'_service': <googleapiclient.discovery.Resource at 0x10c121b10>,\n 'user_id': 'me',\n 'id': '1742723cd673df26',\n 'thread_id': '1742723cd673df26',\n 'recipient': 'kuanche@gmail.com',\n 'sender': 'Monoprice <no-reply@emails.monoprice.com>',\n 'subject': 'Deal Alert >> 4 for $20 + Free Shipping Luxe Series MFi Certified Lightning Cable (Black,3ft)',\n 'date': '2020-08-25 15:38:02-04:00',\n 'snippet': \"Hurry, While Supplies Last! \\u200c \\u200c \\u200c \\u200c \\u200c \\u200c \\u200c \\u200c \\u200c \\u200c \\u200c \\u200c \\u200c \\u200c \\u200c \\u200c \\u200c \\u200c Can't see this email? View it in your Browser. Monoprice logo New Products Monoprice Finds Wall Mount Finder Cable Finder Clearance\",\n 'plain': \"Hurry, While Supplies Last!\\xa0\\xa0\\xa0\\xa0\\xa0\\xa0\\xa0\\xa0\\xa0\\xa0\\xa0\\xa0\\xa0\\xa0\\xa0\\xa0\\xa0\\xa0Can't see this email? View it in your Browser.(http://enews.emails.monoprice.com/q/l3SA0TJNXwqo0gpIPA6qDU0Rrb2aAu7tF5NgFCWrMEVWr1EQ2_3mMA6H3)\\r\\n\\r\\nMonoprice logo (http://enews.emails.monoprice.com/q/cm3ErfCdIE80X5nUDlpo-lFhZEPEEaoCNOTZcOJa3VhbmNoZUBnbWFpbC5jb23DiA4oFekaarfr-LFQ0lVJYwrceKEWw)\\r\\n\\r\\nNew Products (http://enews.emails.monoprice.com/q/JqvXGnS1WXw0XmeGf_lW3VjeFVtAXfJ2jkKZcOJa3VhbmNoZUBnbWFpbC5jb23DiAMWT891Zqc6RLMhYf1hLQvrjFh-Q Finds (http://enews.emails.monoprice.com/q/1MHSP7WdsSR0X7xcVwNlUQu7aqNwSTgJjJ0ZcOJa3VhbmNoZUBnbWFpbC5jb23DiAooWoafoZdobLN5vGvOfnpzqKArQ Mount Finder (http://enews.emails.monoprice.com/q/GiyUGP-XjUO0XQZnxdl-tkiJio-tU7IIj3GZcOJa3VhbmNoZUBnbWFpbC5jb23DiAhFevvFk6e40LLM0Wg0dFcQIRSqg )Cable Finder (http://enews.emails.monoprice.com/q/kZ1ZBcXV3Zn0X2uELRfN04ScWCbCZu_QxWIZcOJa3VhbmNoZUBnbWFpbC5jb23DiAvPL5WK78cpnLVM1nihnHl87z3_A )Clearance (http://enews.emails.monoprice.com/q/mB-Z4a_7uZm0XeZej88uS0VBYuA8ZG6fMoFZcOJa3VhbmNoZUBnbWFpbC5jb23DiAfkBfL5vnfoCLIvzWPYed1in5FWg / Open Box (http://enews.emails.monoprice.com/q/nljPCTcDPPY0XvvZ9nwlix2GZgZ7PO3cIgeZcOJa3VhbmNoZUBnbWFpbC5jb23DiAloZRtauJd6nLaDpaa9-j-15aDVA Support (http://enews.emails.monoprice.com/q/JXpP53Xh6Pp0XZBN0OEDmA6Qh_3QPXrrzVsZcOJa3VhbmNoZUBnbWFpbC5jb23DiAiB2y2Qx-dohLe2rNTmwyyfYgYtw)\\r\\n\\r\\nDEAL ALERT!\\r\\n\\r\\nHURRY, WHILE SUPPLIES LAST!\\r\\n\\r\\nMonoprice Luxe Series Apple MFi Certified Lightning to USB Charge & Sync Cable, 3ft Black (http://enews.emails.monoprice.com/q/6khdC5k21dQ0Xbgp8AaYm_h6GN9VdrZMOgPZcOJa3VhbmNoZUBnbWFpbC5jb23DiAjTFj3jYidYYLDogNoo7aE9o00Zg)\\r\\n\\r\\nLUXE SERIES APPLE MFI CERTIFIED LIGHTNING TO USB CHARGE & SYNC NYLON BRAIDED CABLE, 3FT BLACK\\r\\n\\r\\n4 for $20\\r\\n\\r\\n+ Free Standard US Shipping\\r\\n\\r\\nUse Code: LUXE4(http://enews.emails.monoprice.com/q/CRobmPL4TbA0Xim8ezxNQzR8OsQ2bDZptsNZcOJa3VhbmNoZUBnbWFpbC5jb23DiAg0dDIxfhea4LfgI6MuUSF14NCRg)\\r\\n\\r\\nALSO AVAILABLE\\r\\n\\r\\nMonoprice AtlasFlex Series Durable Apple MFi Certified Lightning to USB Type-A Charge & Sync Kevlar-Reinforced Nylon-Braid Cable, 3ft, Black (http://enews.emails.monoprice.com/q/AQYGnkA6nGZ0XShmtoE9-vcEqafuGpSCQa3ZcOJa3VhbmNoZUBnbWFpbC5jb23DiA7fYZYXhaeJHLmyJFevLINd-3zHA)\\r\\n\\r\\nATLASFLEX SERIES APPLE MFI CERTIFIED LIGHTNING TO USB CHARGE & SYNC KEVLAR-REINFORCED NYLON-BRAID CABLE, 3FT BLACK\\r\\n\\r\\n4 for $24\\r\\n\\r\\n+ Free Standard US Shipping\\r\\n\\r\\nUse Code: ATLAS4(http://enews.emails.monoprice.com/q/cry79uH9v7x0X-xUxDnX-EFaiEvx7ViSmtKZcOJa3VhbmNoZUBnbWFpbC5jb23DiAOm_A7-xEfYwLssFF-4BEnIjpqxQ)\\r\\n\\r\\n*Sale prices end 8/25/2020.\\r\\n\\r\\nThis email was sent to kuanche@gmail.com. You received this e-mail because you are an e-mail subscriber of monoprice.com. Click here to Unsubscribe (http://enews.emails.monoprice.com/q/Em2mop4Rymp0XMAB984cx5uKbIUYmoV2u8CZcOJa3VhbmNoZUBnbWFpbC5jb23DiA7R-L9qLLdrqL2Xd2aNF2_5e0ajg) . Change your Email Preferences (http://enews.emails.monoprice.com/q/ksxrtUy_Qro0Xb966R2LUlY9EOY4r-H3cevZcOJa3VhbmNoZUBnbWFpbC5jb23DiApxrRbGNscqhLPELCq5OuOcqcf1A) . We respect your privacy. For more information, please see our Privacy Policy (http://enews.emails.monoprice.com/q/eYPrLCmm4r90XL3ilecN4lQpArdXr2mc_NLZcOJa3VhbmNoZUBnbWFpbC5jb23DiAVvlWNrI2fKzLfVfv9VkCvpVb8Uw Contact Us (http://enews.emails.monoprice.com/q/vDdnIWd9AnW0XaQhH1zj1l5X6u_SnQHqvVqZcOJa3VhbmNoZUBnbWFpbC5jb23DiARTOWRpIRe5pLBSFdRXWzt70U2kw) .\\r\\n\\r\\nMonoprice, Inc. 11701 6th Street, Rancho Cucamonga, CA 91730 (c)2000-2020 Monoprice, Inc. All rights reserved.\",\n 'html': '<body bgcolor=\"#fcfcfc\" style=\"margin: 0; mso-line-height-rule: exactly;\" width=\"100%\">\\n<center style=\"width: 100%; background: #fcfcfc; text-align: left;\">\\n<!--[if mso | IE]>\\r\\n<table role=\"presentation\" border=\"0\" cellpadding=\"0\" cellspacing=\"0\" width=\"100%\" bgcolor=\"#fcfcfc\">\\r\\n<tr>\\r\\n<td>\\r\\n<![endif]-->\\n<!-- Visually Hidden Preheader Text : BEGIN -->\\n<div style=\"display: none; font-size: 1px; line-height: 1px; max-height: 0px; max-width: 0px; opacity: 0; overflow: hidden; mso-hide: all; font-family: sans-serif;\"> Hurry, While Supplies Last! </div>\\n<!-- Visually Hidden Preheader Text : END -->\\n<!-- Create white space after the desired preview text so email clients don&#8217;t pull other distracting text into the inbox preview. Extend as necessary. -->\\n<!-- Preview Text Spacing Hack : BEGIN -->\\n<div style=\"display: none; font-size: 1px; line-height: 1px; max-height: 0px; max-width: 0px; opacity: 0; overflow: hidden; mso-hide: all; font-family: sans-serif;\"> \\u200c\\xa0\\u200c\\xa0\\u200c\\xa0\\u200c\\xa0\\u200c\\xa0\\u200c\\xa0\\u200c\\xa0\\u200c\\xa0\\u200c\\xa0\\u200c\\xa0\\u200c\\xa0\\u200c\\xa0\\u200c\\xa0\\u200c\\xa0\\u200c\\xa0\\u200c\\xa0\\u200c\\xa0\\u200c\\xa0 </div>\\n<!-- Preview Text Spacing Hack : END -->\\n<!-- 1 Column Text Preheader : BEGIN -->\\n<table align=\"center\" border=\"0\" cellpadding=\"0\" cellspacing=\"0\" class=\"email-container\" role=\"presentation\" style=\"margin: auto;\" width=\"700\">\\n<tr>\\n<td bgcolor=\"#fcfcfc\"><table border=\"0\" cellpadding=\"0\" cellspacing=\"0\" role=\"presentation\" width=\"100%\">\\n<tr>\\n<td style=\"padding: 20px; font-family: sans-serif; font-size: 12px; line-height: 140%; color: #555555;\"> Can\\'t see this email? <a href=\"http://enews.emails.monoprice.com/q/Qzliq6JRN8mUq5TW-isoPKqjenYIxgwzuhxFXeQa6Tojk0EQTbzsPiotz\" style=\"text-decoration: none; color: #00a7ba\" target=\"_blank\">View it in your Browser. </a></td>\\n</tr>\\n</table></td>\\n</tr>\\n</table>\\n<!-- 1 Column Text Preheader : END -->\\n<!-- Email Header : BEGIN -->\\n<table align=\"center\" border=\"0\" cellpadding=\"0\" cellspacing=\"0\" class=\"email-container\" role=\"presentation\" style=\"margin: auto;\" width=\"700\">\\n<tr>\\n<td style=\"padding: 20px 0; text-align: center\"><a href=\"http://enews.emails.monoprice.com/q/-xs4pCu--4L0X8fEb1Hj0vSTGIMF4CWrN_TZcOJa3VhbmNoZUBnbWFpbC5jb23DiATA8ANg5fc4qL7mCKbXGv8KEwKBQ\" target=\"_blank\"><img alt=\"Monoprice logo\" border=\"0\" height=\"31\" src=\"https://images.monoprice.com/cms_images/mp_logo_420x60.png\" style=\"height: auto; background: #fcfcfc; font-family: sans-serif; font-size: 15px; line-height: 140%; color: #555555;\" width=\"220\"/></a></td>\\n</tr>\\n<!-- 1 Column Text : BEGIN -->\\n<tr>\\n<td bgcolor=\"#ffffff\"><table border=\"0\" cellpadding=\"0\" cellspacing=\"0\" role=\"presentation\" width=\"100%\">\\n<tr>\\n<td style=\"padding: 40px; font-family: sans-serif; font-size: 11.5px; line-height: 140%; color: #555555; text-align: center\"><a href=\"http://enews.emails.monoprice.com/q/fUvvFhJTEvG0Xo_413GmVIKBRUCPvCajdl8ZcOJa3VhbmNoZUBnbWFpbC5jb23DiAmwWTNRm2cYeLtzjimoO1yaZsAlg\" style=\"color: #555555;text-decoration: none;\" target=\"_blank\">New Products</a> \\xa0\\xa0\\xa0 <a href=\"http://enews.emails.monoprice.com/q/00UZPUDruZ80XfUF2qL7jlGWUXYOZD2CltDZcOJa3VhbmNoZUBnbWFpbC5jb23DiAWMGOCNHBfoRLk5_YnOfl0-FjEiw\" style=\"color: #555555;text-decoration: none;\" target=\"_blank\">Monoprice Finds</a>\\xa0\\xa0\\xa0<a href=\"http://enews.emails.monoprice.com/q/ddZJhMycHJe0XzK4ZqajVqKozMYgJfnk986ZcOJa3VhbmNoZUBnbWFpbC5jb23DiANDbdaWWXcoqLzK3sTTzKj1TQz2A\" style=\"color: #555555;text-decoration: none;\" target=\"_blank\">Wall Mount Finder</a>\\xa0\\xa0\\xa0 <a href=\"http://enews.emails.monoprice.com/q/gzjfue8-YfJ0XkMznYAB7ubZpxdAfz8MIfRZcOJa3VhbmNoZUBnbWFpbC5jb23DiAFhPrJbhVf5iLQys4cbpOOGRYW7g\" style=\"color: #555555;text-decoration: none;\" target=\"_blank\">Cable Finder</a>\\xa0\\xa0\\xa0<a href=\"http://enews.emails.monoprice.com/q/QBn-fLKl9--0XnvKYzYvkQ8oTTde--YpBuVZcOJa3VhbmNoZUBnbWFpbC5jb23DiA6qK0PIIBcp8LO0Q6YhaiaPOqnsQ\" style=\"color: #555555;text-decoration: none;\" target=\"_blank\">Clearance</a>\\xa0\\xa0\\xa0<a href=\"http://enews.emails.monoprice.com/q/ekIqPPC9WqN0XLI68m-iUqYm6OogqF1PcU-ZcOJa3VhbmNoZUBnbWFpbC5jb23DiAXrMi2BqmfpyLlT2t8qRfSz162Jw\" style=\"color: #555555;text-decoration: none;\" target=\"_blank\">Refurb / Open Box</a>\\xa0\\xa0\\xa0<a href=\"http://enews.emails.monoprice.com/q/2d8SWmkEHSn0X6pRbh-iML691NodScnrdraZcOJa3VhbmNoZUBnbWFpbC5jb23DiA6L5QYkivcLZLUfFN1fjd46Oi7VQ\" style=\"color: #00a7ba;text-decoration: none;\" target=\"_blank\"><b>Tech Support</b></a></td>\\n</tr>\\n</table></td>\\n</tr>\\n<!-- 1 Column Text : END -->\\n</table>\\n<!-- Email Header : END -->\\n<!-- Email Body : BEGIN -->\\n<table align=\"center\" border=\"0\" cellpadding=\"0\" cellspacing=\"0\" class=\"email-container\" role=\"presentation\" style=\"margin: auto;\" width=\"700\">\\n<!-- Hero Image, Flush : BEGIN -->\\n<tr>\\n<td align=\"center\" bgcolor=\"#ffffff\" style=\"padding-top: 5px\"><img align=\"center\" alt=\"DEAL ALERT!\" border=\"0\" class=\"g-img\" height=\"200\" src=\"https://images.monoprice.com/cms_images/200203_deal_alert_700x200.jpg\" style=\"width: 100%; max-width: 700px; height: auto; background: #dddddd; font-family: sans-serif; font-size: 15px; line-height: 140%; color: #555555; margin: auto;\" width=\"700\"/></td>\\n</tr>\\n<!-- Hero Image, Flush : END -->\\n<!-- 1 Column Text Header : BEGIN -->\\n<tr>\\n<td bgcolor=\"#ffffff\" style=\"padding: 20px 40px 0; text-align: center;\">\\n<h1 style=\"margin: 0; font-family: sans-serif; font-size: 24px; line-height: 125%; color: #333333; font-weight: bold;\">Hurry, While Supplies Last!</h1>\\n</td>\\n</tr>\\n<!-- 1 Column Text Header : END -->\\n<!-- Thumbnail Left, Text Right : BEGIN -->\\n<tr>\\n<td align=\"center\" bgcolor=\"#ffffff\" dir=\"ltr\" style=\"padding: 10px;\" valign=\"top\" width=\"100%\">\\n<table align=\"center\" border=\"0\" cellpadding=\"0\" cellspacing=\"0\" role=\"presentation\" width=\"100%\">\\n<tr>\\n<!-- Column : BEGIN -->\\n<td class=\"stack-column-center\" width=\"33.33%\">\\n<table align=\"center\" border=\"0\" cellpadding=\"0\" cellspacing=\"0\" role=\"presentation\" width=\"100%\">\\n<tr>\\n<td dir=\"ltr\" style=\"padding: 0 10px;\" valign=\"top\"><a href=\"http://enews.emails.monoprice.com/q/jN3QHbQpnQ90XqlGr2bA3_jOe0tVQDtq872ZcOJa3VhbmNoZUBnbWFpbC5jb23DiAwlf9VwpbfrULJEPcRDRaacsJS-A\" target=\"_blank\"><img alt=\"Monoprice Luxe Series Apple MFi Certified Lightning to USB Charge &amp; Sync Cable, 3ft Black\" border=\"0\" class=\"center-on-narrow\" height=\"200\" src=\"https://images.monoprice.com/productmediumimages/128671.jpg\" style=\"height: auto; background: #dddddd; font-family: sans-serif; font-size: 15px; line-height: 140%; color: #555555;\" width=\"200\"/></a>\\n</td>\\n</tr>\\n</table>\\n</td>\\n<!-- Column : END -->\\n<!-- Column : BEGIN -->\\n<td class=\"stack-column-center\" width=\"66.66%\">\\n<table align=\"center\" border=\"0\" cellpadding=\"0\" cellspacing=\"0\" role=\"presentation\" width=\"100%\">\\n<tr>\\n<td class=\"center-on-narrow\" dir=\"ltr\" style=\"font-family: sans-serif; font-size: 15px; line-height: 140%; color: #555555; padding: 30px; text-align: left;\" valign=\"top\">\\n<h2 style=\"margin: 0 0 10px 0; font-family: sans-serif; font-size: 16px; line-height: 125%; color: #333333; font-weight: normal;\">Luxe Series Apple MFi Certified Lightning to USB Charge &amp; Sync <strong>Nylon Braided Cable</strong>, 3ft Black</h2>\\n<p style=\"margin: 20px 0 0; font-size: 20px; font-weight: bold; color: #BB1A00\"> 4 for $20 </p>\\n<p style=\"margin: 0 0 30px; font-size: 10px; color: #00a7bb\">+ Free Standard US Shipping</p>\\n<!-- Button : BEGIN -->\\n<table border=\"0\" cellpadding=\"0\" cellspacing=\"0\" class=\"center-on-narrow\" role=\"presentation\" style=\"float:left;\">\\n<tr>\\n<td class=\"button-td\" style=\"border-radius: 3px; background: #222222; text-align: center;\">\\n<a class=\"button-a\" href=\"http://enews.emails.monoprice.com/q/zYktTvJnatz0XeokWY_c8uYweTIZtjJC5FlZcOJa3VhbmNoZUBnbWFpbC5jb23DiAtJcDLcHkcZnLR3-HGk3yXL7SSBg\" style=\"background: #222222; border: 15px solid #222222; font-family: sans-serif; font-size: 13px; line-height: 110%; text-align: center; text-decoration: none; display: block; border-radius: 3px; font-weight: bold;\" target=\"_blank\">\\n<span class=\"button-link\" style=\"color:#ffffff;\">\\xa0\\xa0\\xa0\\xa0Use Code: LUXE4\\xa0\\xa0\\xa0\\xa0</span>\\n</a>\\n</td>\\n</tr>\\n</table>\\n<!-- Button : END -->\\n</td>\\n</tr>\\n</table>\\n</td>\\n<!-- Column : END -->\\n</tr>\\n</table>\\n</td>\\n</tr>\\n<!-- Thumbnail Left, Text Right : END -->\\n<!-- Clear Spacer : BEGIN -->\\n<tr>\\n<td aria-hidden=\"true\" height=\"40\" style=\"font-size: 0; line-height: 0;\">\\xa0</td>\\n</tr>\\n<!-- Clear Spacer : END -->\\n<!-- 1 Column Text Header : BEGIN -->\\n<tr>\\n<td bgcolor=\"#ffffff\" style=\"padding: 20px 40px 0; text-align: center;\">\\n<h1 style=\"margin: 0; font-family: sans-serif; font-size: 24px; line-height: 125%; color: #333333; font-weight: bold;\">Also Available</h1>\\n</td>\\n</tr>\\n<!-- 1 Column Text Header : END -->\\n<!-- Thumbnail Left, Text Right : BEGIN -->\\n<tr>\\n<td align=\"center\" bgcolor=\"#ffffff\" dir=\"ltr\" style=\"padding: 10px;\" valign=\"top\" width=\"100%\">\\n<table align=\"center\" border=\"0\" cellpadding=\"0\" cellspacing=\"0\" role=\"presentation\" width=\"100%\">\\n<tr>\\n<!-- Column : BEGIN -->\\n<td class=\"stack-column-center\" width=\"33.33%\">\\n<table align=\"center\" border=\"0\" cellpadding=\"0\" cellspacing=\"0\" role=\"presentation\" width=\"100%\">\\n<tr>\\n<td dir=\"ltr\" style=\"padding: 0 10px;\" valign=\"top\"><a href=\"http://enews.emails.monoprice.com/q/T0JS5F694Sw0Xu5g5v7q7pYZvDSnSbAHa7TZcOJa3VhbmNoZUBnbWFpbC5jb23DiADMsq8kGIcriLCDnhEz4DcHwzOLw\" target=\"_blank\"><img alt=\"Monoprice AtlasFlex Series Durable Apple MFi Certified Lightning to USB Type-A Charge &amp; Sync Kevlar-Reinforced Nylon-Braid Cable, 3ft, Black\" border=\"0\" class=\"center-on-narrow\" height=\"200\" src=\"https://images.monoprice.com/productmediumimages/311911.jpg\" style=\"height: auto; background: #dddddd; font-family: sans-serif; font-size: 15px; line-height: 140%; color: #555555;\" width=\"200\"/></a>\\n</td>\\n</tr>\\n</table>\\n</td>\\n<!-- Column : END -->\\n<!-- Column : BEGIN -->\\n<td class=\"stack-column-center\" width=\"66.66%\">\\n<table align=\"center\" border=\"0\" cellpadding=\"0\" cellspacing=\"0\" role=\"presentation\" width=\"100%\">\\n<tr>\\n<td class=\"center-on-narrow\" dir=\"ltr\" style=\"font-family: sans-serif; font-size: 15px; line-height: 140%; color: #555555; padding: 30px; text-align: left;\" valign=\"top\">\\n<h2 style=\"margin: 0 0 10px 0; font-family: sans-serif; font-size: 16px; line-height: 125%; color: #333333; font-weight: normal;\">AtlasFlex Series Apple MFi Certified Lightning to USB Charge &amp; Sync <strong>Kevlar-Reinforced Nylon-Braid Cable</strong>, 3ft Black </h2>\\n<p style=\"margin: 20px 0 0; font-size: 20px; font-weight: bold; color: #BB1A00\"> 4 for $24 </p>\\n<p style=\"margin: 0 0 30px; font-size: 10px; color: #00a7bb\">+ Free Standard US Shipping</p>\\n<!-- Button : BEGIN -->\\n<table border=\"0\" cellpadding=\"0\" cellspacing=\"0\" class=\"center-on-narrow\" role=\"presentation\" style=\"float:left;\">\\n<tr>\\n<td class=\"button-td\" style=\"border-radius: 3px; background: #222222; text-align: center;\">\\n<a class=\"button-a\" href=\"http://enews.emails.monoprice.com/q/yqPGCCTcjG90XLlp7gA1mFh2YC5LG6RgSOYZcOJa3VhbmNoZUBnbWFpbC5jb23DiAVAbgLqrVcrgLY1TgGbZn3WVQD5Q\" style=\"background: #222222; border: 15px solid #222222; font-family: sans-serif; font-size: 13px; line-height: 110%; text-align: center; text-decoration: none; display: block; border-radius: 3px; font-weight: bold;\" target=\"_blank\">\\n<span class=\"button-link\" style=\"color:#ffffff;\">\\xa0\\xa0\\xa0\\xa0Use Code: ATLAS4\\xa0\\xa0\\xa0\\xa0</span>\\n</a>\\n</td>\\n</tr>\\n</table>\\n<!-- Button : END -->\\n</td>\\n</tr>\\n</table>\\n</td>\\n<!-- Column : END -->\\n</tr>\\n</table>\\n</td>\\n</tr>\\n<!-- Thumbnail Left, Text Right : END -->\\n<!-- Clear Spacer : BEGIN -->\\n<tr>\\n<td aria-hidden=\"true\" height=\"40\" style=\"font-size: 0; line-height: 0;\">\\xa0</td>\\n</tr>\\n<!-- Clear Spacer : END -->\\n<tr>\\n<td bgcolor=\"#fcfcfc\"><table border=\"0\" cellpadding=\"0\" cellspacing=\"0\" role=\"presentation\" width=\"100%\">\\n<tr>\\n<td style=\"padding: 40px; font-family: sans-serif; font-size: 12px; line-height: 140%; color: #555555;\"> *Sale prices end 8/25/2020.<br/>\\n<br/>\\r\\nThis email was sent to kuanche@gmail.com. You received this e-mail because you are an e-mail subscriber of monoprice.com. Click here to <a href=\"http://enews.emails.monoprice.com/q/KKB4clvdc4e0XbO6pqsvU5YIU4iF4Wf-OvZZcOJa3VhbmNoZUBnbWFpbC5jb23DiAxnk9-uOzdLILpnyIgET8HhcZ8OA\" style=\"text-decoration: none; color: #00a7ba\" target=\"_blank\">Unsubscribe</a>. Change your <a href=\"http://enews.emails.monoprice.com/q/olJcHbV6Ocy0XoLfhuilJ6KNVr7ucBxYp2IZcOJa3VhbmNoZUBnbWFpbC5jb23DiAVvTMRzVTdaOLOUQIPKrH3jVbxyQ\" style=\"text-decoration: none; color: #00a7ba\" target=\"_blank\">Email Preferences</a>. We respect your privacy. For more information, please see our <a href=\"http://enews.emails.monoprice.com/q/aS_VYHbaPVc0XfYdgguXswXh34fNVh-LKifZcOJa3VhbmNoZUBnbWFpbC5jb23DiAKMgO6_-JcpWLQD7YTKWyUryjNCw\" style=\"text-decoration: none; color: #00a7ba\" target=\"_blank\">Privacy Policy</a> or <a href=\"http://enews.emails.monoprice.com/q/jRAP4Ey82Pb0XuHlrTIFZl9rajpxPlqAS1dZcOJa3VhbmNoZUBnbWFpbC5jb23DiA6RJFHowLfpELdp3Y6SKAOY-kXQA\" style=\"text-decoration: none; color: #00a7ba\" target=\"_blank\">Contact Us</a>. </td>\\n</tr>\\n</table></td>\\n</tr>\\n<!-- 1 Column Text : END -->\\n<!-- 1 Column Text : BEGIN -->\\n<tr>\\n<td bgcolor=\"#fcfcfc\"><table border=\"0\" cellpadding=\"0\" cellspacing=\"0\" role=\"presentation\" width=\"100%\">\\n<tr>\\n<td style=\"padding: 20px; font-family: sans-serif; font-size: 12px; line-height: 140%; color: #555555;\"> Monoprice, Inc. 11701 6th Street, Rancho Cucamonga, CA 91730 ©2000-2020 Monoprice, Inc. All rights reserved. </td>\\n</tr>\\n</table></td>\\n</tr>\\n<!-- 1 Column Text : END -->\\n</table>\\n<!-- Email Body : END -->\\n<!--[if mso | IE]>\\r\\n</td>\\r\\n</tr>\\r\\n</table>\\r\\n<![endif]-->\\n<!--\\r\\nCopyright (c) Ted Goas - MIT License: https://www.monoprice.com/pages/mitlicense\\r\\n-->\\n</center>\\n<img alt=\"\" height=\"1\" src=\"http://enews.emails.monoprice.com/q/gdNf9EHj8fXYt3HAcJq1V3hEk5fiOIEaLW\" width=\"20\"/></body>',\n 'label_ids': [Label(name='CATEGORY_PROMOTIONS', id='CATEGORY_PROMOTIONS'),\n  Label(name='INBOX', id='INBOX')],\n 'attachments': []}"
     },
     "metadata": {},
     "execution_count": 9
    }
   ],
   "source": [
    "vars(messages[0])"
   ]
  },
  {
   "cell_type": "code",
   "execution_count": 39,
   "metadata": {
    "tags": []
   },
   "outputs": [
    {
     "output_type": "stream",
     "name": "stdout",
     "text": "This will be printed on the same line 99"
    }
   ],
   "source": [
    "from time import sleep\n",
    "\n",
    "for i in range(100): \n",
    "    sleep(1)\n",
    "    print(f\"\\rThis will be printed on the same line {i}\", end=\"\")\n",
    "\n"
   ]
  },
  {
   "cell_type": "code",
   "execution_count": null,
   "metadata": {},
   "outputs": [],
   "source": []
  },
  {
   "cell_type": "code",
   "execution_count": null,
   "metadata": {},
   "outputs": [],
   "source": []
  },
  {
   "cell_type": "code",
   "execution_count": 7,
   "metadata": {},
   "outputs": [
    {
     "output_type": "execute_result",
     "data": {
      "text/plain": "                                       recipient  \\\nid                                                 \n17312d2adc16eea0  Kuan Cheng <kuanche@gmail.com>   \n17312cad23274973  Kuan Cheng <kuanche@gmail.com>   \n173128e33f0644d5  Kuan Cheng <kuanche@gmail.com>   \n17312101f5cadccc  Kuan Cheng <kuanche@gmail.com>   \n1730d25b6a222fe9  Kuan Cheng <kuanche@gmail.com>   \n...                                          ...   \n16f61d0ec973fd54  Kuan Cheng <kuanche@gmail.com>   \n16f61a3fde7d0f00  Kuan Cheng <kuanche@gmail.com>   \n16f6144fe11199d0  Kuan Cheng <kuanche@gmail.com>   \n16f61005f4851643  Kuan Cheng <kuanche@gmail.com>   \n16f5f8a2893d191e  Kuan Cheng <kuanche@gmail.com>   \n\n                                                             sender  \\\nid                                                                    \n17312d2adc16eea0           Janet Li <notification@facebookmail.com>   \n17312cad23274973         Steven Lai <notification@facebookmail.com>   \n173128e33f0644d5  Isabelle Ahn Richardson <notification@facebook...   \n17312101f5cadccc  Isabelle Ahn Richardson <notification@facebook...   \n1730d25b6a222fe9  Isabelle Ahn Richardson <notification@facebook...   \n...                                                             ...   \n16f61d0ec973fd54          Peter Tia <notification@facebookmail.com>   \n16f61a3fde7d0f00           Janet Li <notification@facebookmail.com>   \n16f6144fe11199d0          Bohan Liu <notification@facebookmail.com>   \n16f61005f4851643         Jenny Zhou <notification@facebookmail.com>   \n16f5f8a2893d191e       Anton Nguyen <notification@facebookmail.com>   \n\n                                                            subject  \\\nid                                                                    \n17312d2adc16eea0                       Janet Li sent you a message.   \n17312cad23274973  Steven Lai sent a message to your group conver...   \n173128e33f0644d5  Isabelle Ahn Richardson sent a message to your...   \n17312101f5cadccc  Isabelle Ahn Richardson sent a message to your...   \n1730d25b6a222fe9  Isabelle Ahn Richardson sent a message to your...   \n...                                                             ...   \n16f61d0ec973fd54  Peter Tia sent a message to the conversation \"...   \n16f61a3fde7d0f00                       Janet Li sent you a message.   \n16f6144fe11199d0  Bohan Liu sent a message to the conversation \"...   \n16f61005f4851643  Jenny Zhou sent a message to the conversation ...   \n16f5f8a2893d191e  Anton Nguyen sent a message to the conversatio...   \n\n                                       date  \\\nid                                            \n17312d2adc16eea0  2020-07-02 23:57:39-04:00   \n17312cad23274973  2020-07-02 23:48:50-04:00   \n173128e33f0644d5  2020-07-02 22:42:39-04:00   \n17312101f5cadccc  2020-07-02 20:24:58-04:00   \n1730d25b6a222fe9  2020-07-01 21:30:31-04:00   \n...                                     ...   \n16f61d0ec973fd54  2020-01-01 10:54:39-05:00   \n16f61a3fde7d0f00  2020-01-01 10:05:25-05:00   \n16f6144fe11199d0  2020-01-01 08:21:45-05:00   \n16f61005f4851643  2020-01-01 07:06:41-05:00   \n16f5f8a2893d191e  2020-01-01 00:18:06-05:00   \n\n                                                            snippet  \\\nid                                                                    \n17312d2adc16eea0  Janet Li sent you a message. Open Messenger Yo...   \n17312cad23274973  Steven Lai sent a message to your group conver...   \n173128e33f0644d5  Isabelle Ahn Richardson sent a message to your...   \n17312101f5cadccc  Isabelle Ahn Richardson sent a message to your...   \n1730d25b6a222fe9  Isabelle Ahn Richardson sent a message to your...   \n...                                                             ...   \n16f61d0ec973fd54  Peter Tia sent a message to the conversation \"...   \n16f61a3fde7d0f00  Janet Li sent you a message. Open Messenger Yo...   \n16f6144fe11199d0  Bohan Liu sent a message to the conversation \"...   \n16f61005f4851643  Jenny Zhou sent a message to the conversation ...   \n16f5f8a2893d191e  Anton Nguyen sent a message to the conversatio...   \n\n                                         label_ids  \nid                                                  \n17312d2adc16eea0  [UNREAD, CATEGORY_SOCIAL, INBOX]  \n17312cad23274973  [UNREAD, CATEGORY_SOCIAL, INBOX]  \n173128e33f0644d5  [UNREAD, CATEGORY_SOCIAL, INBOX]  \n17312101f5cadccc  [UNREAD, CATEGORY_SOCIAL, INBOX]  \n1730d25b6a222fe9  [UNREAD, CATEGORY_SOCIAL, INBOX]  \n...                                            ...  \n16f61d0ec973fd54  [UNREAD, CATEGORY_SOCIAL, INBOX]  \n16f61a3fde7d0f00  [UNREAD, CATEGORY_SOCIAL, INBOX]  \n16f6144fe11199d0  [UNREAD, CATEGORY_SOCIAL, INBOX]  \n16f61005f4851643  [UNREAD, CATEGORY_SOCIAL, INBOX]  \n16f5f8a2893d191e  [UNREAD, CATEGORY_SOCIAL, INBOX]  \n\n[200 rows x 6 columns]",
      "text/html": "<div>\n<style scoped>\n    .dataframe tbody tr th:only-of-type {\n        vertical-align: middle;\n    }\n\n    .dataframe tbody tr th {\n        vertical-align: top;\n    }\n\n    .dataframe thead th {\n        text-align: right;\n    }\n</style>\n<table border=\"1\" class=\"dataframe\">\n  <thead>\n    <tr style=\"text-align: right;\">\n      <th></th>\n      <th>recipient</th>\n      <th>sender</th>\n      <th>subject</th>\n      <th>date</th>\n      <th>snippet</th>\n      <th>label_ids</th>\n    </tr>\n    <tr>\n      <th>id</th>\n      <th></th>\n      <th></th>\n      <th></th>\n      <th></th>\n      <th></th>\n      <th></th>\n    </tr>\n  </thead>\n  <tbody>\n    <tr>\n      <th>17312d2adc16eea0</th>\n      <td>Kuan Cheng &lt;kuanche@gmail.com&gt;</td>\n      <td>Janet Li &lt;notification@facebookmail.com&gt;</td>\n      <td>Janet Li sent you a message.</td>\n      <td>2020-07-02 23:57:39-04:00</td>\n      <td>Janet Li sent you a message. Open Messenger Yo...</td>\n      <td>[UNREAD, CATEGORY_SOCIAL, INBOX]</td>\n    </tr>\n    <tr>\n      <th>17312cad23274973</th>\n      <td>Kuan Cheng &lt;kuanche@gmail.com&gt;</td>\n      <td>Steven Lai &lt;notification@facebookmail.com&gt;</td>\n      <td>Steven Lai sent a message to your group conver...</td>\n      <td>2020-07-02 23:48:50-04:00</td>\n      <td>Steven Lai sent a message to your group conver...</td>\n      <td>[UNREAD, CATEGORY_SOCIAL, INBOX]</td>\n    </tr>\n    <tr>\n      <th>173128e33f0644d5</th>\n      <td>Kuan Cheng &lt;kuanche@gmail.com&gt;</td>\n      <td>Isabelle Ahn Richardson &lt;notification@facebook...</td>\n      <td>Isabelle Ahn Richardson sent a message to your...</td>\n      <td>2020-07-02 22:42:39-04:00</td>\n      <td>Isabelle Ahn Richardson sent a message to your...</td>\n      <td>[UNREAD, CATEGORY_SOCIAL, INBOX]</td>\n    </tr>\n    <tr>\n      <th>17312101f5cadccc</th>\n      <td>Kuan Cheng &lt;kuanche@gmail.com&gt;</td>\n      <td>Isabelle Ahn Richardson &lt;notification@facebook...</td>\n      <td>Isabelle Ahn Richardson sent a message to your...</td>\n      <td>2020-07-02 20:24:58-04:00</td>\n      <td>Isabelle Ahn Richardson sent a message to your...</td>\n      <td>[UNREAD, CATEGORY_SOCIAL, INBOX]</td>\n    </tr>\n    <tr>\n      <th>1730d25b6a222fe9</th>\n      <td>Kuan Cheng &lt;kuanche@gmail.com&gt;</td>\n      <td>Isabelle Ahn Richardson &lt;notification@facebook...</td>\n      <td>Isabelle Ahn Richardson sent a message to your...</td>\n      <td>2020-07-01 21:30:31-04:00</td>\n      <td>Isabelle Ahn Richardson sent a message to your...</td>\n      <td>[UNREAD, CATEGORY_SOCIAL, INBOX]</td>\n    </tr>\n    <tr>\n      <th>...</th>\n      <td>...</td>\n      <td>...</td>\n      <td>...</td>\n      <td>...</td>\n      <td>...</td>\n      <td>...</td>\n    </tr>\n    <tr>\n      <th>16f61d0ec973fd54</th>\n      <td>Kuan Cheng &lt;kuanche@gmail.com&gt;</td>\n      <td>Peter Tia &lt;notification@facebookmail.com&gt;</td>\n      <td>Peter Tia sent a message to the conversation \"...</td>\n      <td>2020-01-01 10:54:39-05:00</td>\n      <td>Peter Tia sent a message to the conversation \"...</td>\n      <td>[UNREAD, CATEGORY_SOCIAL, INBOX]</td>\n    </tr>\n    <tr>\n      <th>16f61a3fde7d0f00</th>\n      <td>Kuan Cheng &lt;kuanche@gmail.com&gt;</td>\n      <td>Janet Li &lt;notification@facebookmail.com&gt;</td>\n      <td>Janet Li sent you a message.</td>\n      <td>2020-01-01 10:05:25-05:00</td>\n      <td>Janet Li sent you a message. Open Messenger Yo...</td>\n      <td>[UNREAD, CATEGORY_SOCIAL, INBOX]</td>\n    </tr>\n    <tr>\n      <th>16f6144fe11199d0</th>\n      <td>Kuan Cheng &lt;kuanche@gmail.com&gt;</td>\n      <td>Bohan Liu &lt;notification@facebookmail.com&gt;</td>\n      <td>Bohan Liu sent a message to the conversation \"...</td>\n      <td>2020-01-01 08:21:45-05:00</td>\n      <td>Bohan Liu sent a message to the conversation \"...</td>\n      <td>[UNREAD, CATEGORY_SOCIAL, INBOX]</td>\n    </tr>\n    <tr>\n      <th>16f61005f4851643</th>\n      <td>Kuan Cheng &lt;kuanche@gmail.com&gt;</td>\n      <td>Jenny Zhou &lt;notification@facebookmail.com&gt;</td>\n      <td>Jenny Zhou sent a message to the conversation ...</td>\n      <td>2020-01-01 07:06:41-05:00</td>\n      <td>Jenny Zhou sent a message to the conversation ...</td>\n      <td>[UNREAD, CATEGORY_SOCIAL, INBOX]</td>\n    </tr>\n    <tr>\n      <th>16f5f8a2893d191e</th>\n      <td>Kuan Cheng &lt;kuanche@gmail.com&gt;</td>\n      <td>Anton Nguyen &lt;notification@facebookmail.com&gt;</td>\n      <td>Anton Nguyen sent a message to the conversatio...</td>\n      <td>2020-01-01 00:18:06-05:00</td>\n      <td>Anton Nguyen sent a message to the conversatio...</td>\n      <td>[UNREAD, CATEGORY_SOCIAL, INBOX]</td>\n    </tr>\n  </tbody>\n</table>\n<p>200 rows × 6 columns</p>\n</div>"
     },
     "metadata": {},
     "execution_count": 7
    }
   ],
   "source": [
    "import pandas as pd \n",
    "\n",
    "raw_df = pd.DataFrame([vars(f) for f in messages])\n",
    "\n",
    "df = raw_df[['id', 'recipient', 'sender', 'subject', 'date', 'snippet', 'label_ids']]\n",
    "\n",
    "df = df.set_index('id')\n",
    "\n",
    "df\n",
    "\n"
   ]
  },
  {
   "cell_type": "code",
   "execution_count": 20,
   "metadata": {
    "tags": []
   },
   "outputs": [
    {
     "output_type": "execute_result",
     "data": {
      "text/plain": "        0  1\n0  Foo(1)  1\n1  Foo(1)  2",
      "text/html": "<div>\n<style scoped>\n    .dataframe tbody tr th:only-of-type {\n        vertical-align: middle;\n    }\n\n    .dataframe tbody tr th {\n        vertical-align: top;\n    }\n\n    .dataframe thead th {\n        text-align: right;\n    }\n</style>\n<table border=\"1\" class=\"dataframe\">\n  <thead>\n    <tr style=\"text-align: right;\">\n      <th></th>\n      <th>0</th>\n      <th>1</th>\n    </tr>\n  </thead>\n  <tbody>\n    <tr>\n      <th>0</th>\n      <td>Foo(1)</td>\n      <td>1</td>\n    </tr>\n    <tr>\n      <th>1</th>\n      <td>Foo(1)</td>\n      <td>2</td>\n    </tr>\n  </tbody>\n</table>\n</div>"
     },
     "metadata": {},
     "execution_count": 20
    }
   ],
   "source": [
    "import pandas as pd\n",
    "\n",
    "class Foo():\n",
    "    def __init__(self, a):\n",
    "        self.a = a\n",
    "    def __repr__(self):\n",
    "        return \"Foo({})\".format(self.a)\n",
    "\n",
    "df = pd.DataFrame([[Foo(1), 1], [Foo(1), 2], [Foo(2), 3]])\n",
    "\n",
    "df\n",
    "\n",
    "g = df.groupby(df[0].apply(lambda x: x.a))  # Note: x is of type Foo\n",
    "\n",
    "g.filter(lambda x: x.name == 1)"
   ]
  },
  {
   "cell_type": "code",
   "execution_count": null,
   "metadata": {},
   "outputs": [],
   "source": []
  },
  {
   "cell_type": "code",
   "execution_count": null,
   "metadata": {},
   "outputs": [],
   "source": []
  },
  {
   "cell_type": "code",
   "execution_count": null,
   "metadata": {},
   "outputs": [],
   "source": []
  },
  {
   "cell_type": "code",
   "execution_count": null,
   "metadata": {},
   "outputs": [],
   "source": []
  },
  {
   "cell_type": "code",
   "execution_count": 21,
   "metadata": {},
   "outputs": [
    {
     "output_type": "execute_result",
     "data": {
      "text/plain": "        0  1\n0  Foo(1)  1\n1  Foo(1)  2\n2  Foo(2)  3",
      "text/html": "<div>\n<style scoped>\n    .dataframe tbody tr th:only-of-type {\n        vertical-align: middle;\n    }\n\n    .dataframe tbody tr th {\n        vertical-align: top;\n    }\n\n    .dataframe thead th {\n        text-align: right;\n    }\n</style>\n<table border=\"1\" class=\"dataframe\">\n  <thead>\n    <tr style=\"text-align: right;\">\n      <th></th>\n      <th>0</th>\n      <th>1</th>\n    </tr>\n  </thead>\n  <tbody>\n    <tr>\n      <th>0</th>\n      <td>Foo(1)</td>\n      <td>1</td>\n    </tr>\n    <tr>\n      <th>1</th>\n      <td>Foo(1)</td>\n      <td>2</td>\n    </tr>\n    <tr>\n      <th>2</th>\n      <td>Foo(2)</td>\n      <td>3</td>\n    </tr>\n  </tbody>\n</table>\n</div>"
     },
     "metadata": {},
     "execution_count": 21
    }
   ],
   "source": [
    "df"
   ]
  },
  {
   "cell_type": "code",
   "execution_count": null,
   "metadata": {},
   "outputs": [],
   "source": []
  }
 ],
 "metadata": {
  "language_info": {
   "codemirror_mode": {
    "name": "ipython",
    "version": 3
   },
   "file_extension": ".py",
   "mimetype": "text/x-python",
   "name": "python",
   "nbconvert_exporter": "python",
   "pygments_lexer": "ipython3",
   "version": "3.7.7-final"
  },
  "orig_nbformat": 2,
  "kernelspec": {
   "name": "python37764bitsimplegmailvenvac7f8fd06baf4d46912de1c2de7e2536",
   "display_name": "Python 3.7.7 64-bit ('simple-gmail': venv)"
  }
 },
 "nbformat": 4,
 "nbformat_minor": 2
}